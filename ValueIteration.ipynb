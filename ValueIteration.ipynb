{
 "cells": [
  {
   "cell_type": "code",
   "execution_count": 1,
   "id": "940e68ff",
   "metadata": {},
   "outputs": [],
   "source": [
    "import numpy as np\n",
    "import random\n",
    "import copy"
   ]
  },
  {
   "cell_type": "code",
   "execution_count": 2,
   "id": "d46e5354",
   "metadata": {},
   "outputs": [],
   "source": [
    "actions = [0, 1, 2, 3]  # up, down, left, right\n",
    "states = [i for i in range(0, 54)]\n",
    "barrier_states = [7, 11, 16, 20, 25, 29, 41]\n",
    "goal_state = 8"
   ]
  },
  {
   "cell_type": "code",
   "execution_count": 3,
   "id": "8a5079b2",
   "metadata": {},
   "outputs": [],
   "source": [
    "MAX_ITER = 100\n",
    "gamma = 0.9  # discount factor"
   ]
  },
  {
   "cell_type": "code",
   "execution_count": 4,
   "id": "8682943f",
   "metadata": {},
   "outputs": [],
   "source": [
    "def return_Q(s, a, values):\n",
    "    if (s in barrier_states) or (s == goal_state):\n",
    "        return 0\n",
    "    \n",
    "    #-------- up ---------\n",
    "    if a == 0:\n",
    "        ns = s - 9  # next state\n",
    "        if (ns < 0) or (ns in barrier_states):\n",
    "            return (-1 + (gamma * values[s]))\n",
    "        elif ns == goal_state:\n",
    "            return (1 + gamma * values[ns])\n",
    "        else:\n",
    "            return (0 + gamma * values[ns])\n",
    "                        \n",
    "    #-------- down ---------    \n",
    "    if a == 1: \n",
    "        ns = s + 9  # next state\n",
    "        if (ns > 53) or (ns in barrier_states):\n",
    "            return (-1 + gamma * values[s])  \n",
    "        else:\n",
    "            return (0 + gamma * values[ns])\n",
    "\n",
    "    #-------- left ---------    \n",
    "    if a == 2: \n",
    "        ns = s - 1  # next state\n",
    "        if (ns % 9 == 8) or (ns < 0) or (ns in barrier_states):\n",
    "            return (-1 + gamma * values[s])  \n",
    "        else:\n",
    "            return (0 + gamma * values[ns])\n",
    "\n",
    "    #-------- right ---------    \n",
    "    if a == 3:\n",
    "        ns = s + 1  # next state\n",
    "        if (ns % 9 == 0) or (ns in barrier_states):\n",
    "            return (-1 + gamma * values[s])  \n",
    "        elif ns == goal_state:\n",
    "            return (1 + gamma * values[ns])\n",
    "        else:\n",
    "            return (0 + gamma * values[ns])"
   ]
  },
  {
   "cell_type": "code",
   "execution_count": 5,
   "id": "f5ea9bd7",
   "metadata": {},
   "outputs": [],
   "source": [
    "# Policy Improvement\n",
    "\n",
    "def policyImprovement(values):\n",
    "    new_policy = np.array([0]*54)\n",
    "    \n",
    "    for s in states:\n",
    "        Q = [0.] * len(actions)\n",
    "        for a in actions:\n",
    "            Q[a] = return_Q(s, a, values)\n",
    "        new_policy[s] = np.argmax(Q)\n",
    "        \n",
    "    return new_policy"
   ]
  },
  {
   "cell_type": "markdown",
   "id": "ee8a4f85",
   "metadata": {},
   "source": [
    "## Value Iteration"
   ]
  },
  {
   "cell_type": "code",
   "execution_count": 6,
   "id": "a4c6c2cb",
   "metadata": {},
   "outputs": [],
   "source": [
    "def valueIteration(values):\n",
    "    for i in range(MAX_ITER):\n",
    "        for s in states:\n",
    "            Q = [0.] * len(actions)\n",
    "            for a in actions:\n",
    "                Q[a] = return_Q(s, a, values)\n",
    "            values[s] = max(Q)\n",
    "        \n",
    "    return policyImprovement(values)"
   ]
  },
  {
   "cell_type": "code",
   "execution_count": 7,
   "id": "218ba6aa",
   "metadata": {},
   "outputs": [
    {
     "name": "stdout",
     "output_type": "stream",
     "text": [
      "Optimal policy: [3 3 3 1 1 1 1 0 0 0 0 0 1 1 1 1 0 0 1 1 0 1 1 1 1 0 0 1 1 0 3 3 3 3 3 0 3\n",
      " 3 3 0 0 0 0 0 0 0 0 0 0 0 3 0 0 0]\n"
     ]
    }
   ],
   "source": [
    "init_values = np.array([0.]*54)\n",
    "\n",
    "final_policy = valueIteration(init_values)\n",
    "print('Optimal policy:', final_policy)"
   ]
  }
 ],
 "metadata": {
  "kernelspec": {
   "display_name": "Python 3 (ipykernel)",
   "language": "python",
   "name": "python3"
  },
  "language_info": {
   "codemirror_mode": {
    "name": "ipython",
    "version": 3
   },
   "file_extension": ".py",
   "mimetype": "text/x-python",
   "name": "python",
   "nbconvert_exporter": "python",
   "pygments_lexer": "ipython3",
   "version": "3.9.12"
  }
 },
 "nbformat": 4,
 "nbformat_minor": 5
}
