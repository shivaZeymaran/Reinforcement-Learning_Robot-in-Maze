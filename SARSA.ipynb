{
 "cells": [
  {
   "cell_type": "code",
   "execution_count": 1,
   "id": "e884ee57",
   "metadata": {},
   "outputs": [],
   "source": [
    "import numpy as np\n",
    "import random\n",
    "import copy"
   ]
  },
  {
   "cell_type": "markdown",
   "id": "e51a88dc",
   "metadata": {},
   "source": [
    "# Environment"
   ]
  },
  {
   "cell_type": "code",
   "execution_count": 2,
   "id": "372fac84",
   "metadata": {},
   "outputs": [],
   "source": [
    "actions = [0, 1, 2, 3]  # up, down, left, right\n",
    "states = [i for i in range(0, 54)]\n",
    "barrier_states = [7, 11, 16, 20, 25, 29, 41]\n",
    "goal_state = 8"
   ]
  },
  {
   "cell_type": "code",
   "execution_count": 3,
   "id": "cc0bd064",
   "metadata": {},
   "outputs": [],
   "source": [
    "def environment(s, a):\n",
    "    if s == goal_state:\n",
    "        return (s, 0)\n",
    "    if s in barrier_states:\n",
    "        return (-10, -10)\n",
    "    \n",
    "    #-------- up ---------\n",
    "    if a == 0:\n",
    "        ns = s - 9  # next state\n",
    "        if (ns < 0) or (ns in barrier_states):\n",
    "            return (s, -1)\n",
    "        elif ns == goal_state:\n",
    "            return (ns, 1)\n",
    "        else:\n",
    "            return (ns, 0)\n",
    "                        \n",
    "    #-------- down ---------    \n",
    "    if a == 1: \n",
    "        ns = s + 9  # next state\n",
    "        if (ns > 53) or (ns in barrier_states):\n",
    "            return (s, -1)  \n",
    "        else:\n",
    "            return (ns, 0)\n",
    "\n",
    "    #-------- left ---------    \n",
    "    if a == 2: \n",
    "        ns = s - 1  # next state\n",
    "        if (ns % 9 == 8) or (ns < 0) or (ns in barrier_states):\n",
    "            return (s, -1)  \n",
    "        else:\n",
    "            return (ns, 0)\n",
    "\n",
    "    #-------- right ---------    \n",
    "    if a == 3:\n",
    "        ns = s + 1  # next state\n",
    "        if (ns % 9 == 0) or (ns in barrier_states):\n",
    "            return (s, -1)  \n",
    "        elif ns == goal_state:\n",
    "            return (ns, 1)\n",
    "        else:\n",
    "            return (ns, 0)"
   ]
  },
  {
   "cell_type": "markdown",
   "id": "13261d4f",
   "metadata": {},
   "source": [
    "# Policy"
   ]
  },
  {
   "cell_type": "code",
   "execution_count": 4,
   "id": "5fe9b8d5",
   "metadata": {},
   "outputs": [],
   "source": [
    "def action_selection(state, Q):  # assume greedy policy\n",
    "    action = np.random.choice(np.flatnonzero(Q[state] == Q[state].max()))   # choose randomly from maximum values   \n",
    "    return action"
   ]
  },
  {
   "cell_type": "markdown",
   "id": "3acbbae3",
   "metadata": {},
   "source": [
    "# SARSA"
   ]
  },
  {
   "cell_type": "code",
   "execution_count": 5,
   "id": "a00f38b3",
   "metadata": {},
   "outputs": [],
   "source": [
    "gamma = 0.9  # discount factor\n",
    "alpha = 1  # learning rate\n",
    "episodes = 100"
   ]
  },
  {
   "cell_type": "code",
   "execution_count": 6,
   "id": "a8f0adf4",
   "metadata": {},
   "outputs": [],
   "source": [
    "def sarsa(Q):\n",
    "    for e in range(episodes):\n",
    "#         print('episode:', e)\n",
    "        s = random.randint(0, 53)  # start from random state\n",
    "#         print('initial state:', s)\n",
    "        a = action_selection(s, Q)\n",
    "#         print('initial action:', a)\n",
    "        while s != goal_state:\n",
    "            (ns, r) = environment(s, a)   # next state and reward\n",
    "            # to avoid starting from obstacle cell\n",
    "            while ns == -10 and r == -10:  \n",
    "                s = random.randint(0, 53)\n",
    "                a = action_selection(s, Q)\n",
    "                (ns, r) = environment(s, a)\n",
    "                \n",
    "#             print('environment response:', ns, r)\n",
    "            na = action_selection(ns, Q)  # next action \n",
    "#             print('next action:', na)\n",
    "            Q[s][a] = Q[s][a] + alpha * (r + gamma * Q[ns][na] - Q[s][a])\n",
    "#             print('updated Q:', Q[s][a])\n",
    "#             print('new Q:', Q)\n",
    "            s = ns\n",
    "            a = na\n",
    "\n",
    "    policy = np.array([0]*54)\n",
    "    for state in states:\n",
    "        policy[state] = np.argmax(Q[state])\n",
    "\n",
    "    return policy"
   ]
  },
  {
   "cell_type": "code",
   "execution_count": 7,
   "id": "bf805c5c",
   "metadata": {},
   "outputs": [
    {
     "name": "stdout",
     "output_type": "stream",
     "text": [
      "Optimal policy: [1 1 3 1 2 1 2 0 0 1 1 0 1 0 1 1 0 0 3 1 0 3 3 3 1 0 0 3 1 0 0 3 3 3 1 0 0\n",
      " 3 3 3 0 0 0 3 0 0 0 0 0 0 2 0 3 0]\n"
     ]
    }
   ],
   "source": [
    "random.seed(10)\n",
    "Q = np.array([[0.] * len(actions)] * len(states))\n",
    "\n",
    "policy = sarsa(Q)\n",
    "print('Optimal policy:', policy)"
   ]
  }
 ],
 "metadata": {
  "kernelspec": {
   "display_name": "Python 3 (ipykernel)",
   "language": "python",
   "name": "python3"
  },
  "language_info": {
   "codemirror_mode": {
    "name": "ipython",
    "version": 3
   },
   "file_extension": ".py",
   "mimetype": "text/x-python",
   "name": "python",
   "nbconvert_exporter": "python",
   "pygments_lexer": "ipython3",
   "version": "3.9.12"
  }
 },
 "nbformat": 4,
 "nbformat_minor": 5
}
