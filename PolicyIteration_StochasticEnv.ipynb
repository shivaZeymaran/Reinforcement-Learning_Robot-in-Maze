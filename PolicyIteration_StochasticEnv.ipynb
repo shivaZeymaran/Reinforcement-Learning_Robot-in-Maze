{
 "cells": [
  {
   "cell_type": "code",
   "execution_count": 1,
   "id": "eb8fc9f4",
   "metadata": {},
   "outputs": [],
   "source": [
    "import numpy as np\n",
    "import random\n",
    "import copy"
   ]
  },
  {
   "cell_type": "code",
   "execution_count": 2,
   "id": "9460f4e8",
   "metadata": {},
   "outputs": [],
   "source": [
    "actions = [0, 1, 2, 3]  # up, down, left, right\n",
    "states = [i for i in range(0, 54)]\n",
    "barrier_states = [7, 11, 16, 20, 25, 29, 41]\n",
    "goal_state = 8"
   ]
  },
  {
   "cell_type": "code",
   "execution_count": 3,
   "id": "8ede741a",
   "metadata": {},
   "outputs": [],
   "source": [
    "MAX_ITER = 5\n",
    "gamma = 0.9  # discount factor"
   ]
  },
  {
   "cell_type": "code",
   "execution_count": 4,
   "id": "0af1ebea",
   "metadata": {},
   "outputs": [],
   "source": [
    "def return_Q(s, a, values):\n",
    "    if (s in barrier_states) or (s == goal_state):\n",
    "        return 0\n",
    "    \n",
    "    p = 0.8\n",
    "    \n",
    "    #-------- up ---------\n",
    "    if a == 0:\n",
    "        ns = s - 9   # up\n",
    "        if (ns < 0) or (ns in barrier_states):\n",
    "            t1 = p * (-1 + (gamma * values[s]))\n",
    "        elif ns == goal_state:\n",
    "            t1 = p * (1 + (gamma * values[ns]))\n",
    "        else:\n",
    "            t1 = p * (0 + (gamma * values[ns]))\n",
    "\n",
    "        ns = s + 9   # down\n",
    "        if (ns > 53) or (ns in barrier_states):\n",
    "            t2 = (1-p) * (-1 + gamma * values[s])  \n",
    "        else:\n",
    "            t2 = (1-p) * (0 + gamma * values[ns])  \n",
    "                        \n",
    "    #-------- down ---------    \n",
    "    if a == 1: \n",
    "        ns = s + 9   # down\n",
    "        if (ns > 53) or (ns in barrier_states):\n",
    "            t1 = p * (-1 + (gamma * values[s])) \n",
    "        else:\n",
    "            t1 = p * (0 + (gamma * values[ns]))\n",
    "\n",
    "        ns = s - 9    # up\n",
    "        if (ns < 0) or (ns in barrier_states):\n",
    "            t2 = (1-p) * (-1 + gamma * values[s]) \n",
    "        elif ns == goal_state:\n",
    "            t2 = (1-p) * (1 + gamma * values[ns]) \n",
    "        else:\n",
    "            t2 = (1-p) * (0 + gamma * values[ns]) \n",
    "            \n",
    "    #-------- left ---------    \n",
    "    if a == 2: \n",
    "        ns = s - 1   # left\n",
    "        if (ns % 9 == 8) or (ns < 0) or (ns in barrier_states):\n",
    "            t1 = p * (-1 + (gamma * values[s])) \n",
    "        else:\n",
    "            t1 = p * (0 + (gamma * values[ns]))\n",
    "\n",
    "        ns = s + 1   # right\n",
    "        if (ns % 9 == 0) or (ns in barrier_states):\n",
    "            t2 = (1-p) * (-1 + gamma * values[s])  \n",
    "        elif ns == goal_state:\n",
    "            t2 = (1-p) * (1 + gamma * values[ns]) \n",
    "        else:\n",
    "            t2 = (1-p) * (0 + gamma * values[ns]) \n",
    "            \n",
    "    #-------- right ---------    \n",
    "    if a == 3: \n",
    "        ns = s + 1   # right\n",
    "        if (ns % 9 == 0) or (ns in barrier_states):\n",
    "            t1 = p * (-1 + (gamma * values[s])) \n",
    "        elif ns == goal_state:\n",
    "            t1 = p * (1 + (gamma * values[ns]))\n",
    "        else:\n",
    "            t1 = p * (0 + (gamma * values[ns]))\n",
    "\n",
    "        ns = s - 1   # left\n",
    "        if (ns % 9 == 8) or (ns < 0) or (ns in barrier_states):\n",
    "            t2 = (1-p) * (-1 + gamma * values[s]) \n",
    "        else:\n",
    "            t2 = (1-p) * (0 + gamma * values[ns])\n",
    "            \n",
    "    return t1 + t2"
   ]
  },
  {
   "cell_type": "markdown",
   "id": "be177470",
   "metadata": {},
   "source": [
    "## Policy Iteration"
   ]
  },
  {
   "cell_type": "code",
   "execution_count": 5,
   "id": "8fcb7a41",
   "metadata": {},
   "outputs": [],
   "source": [
    "# Policy Evaluation\n",
    "\n",
    "def policyEvaluation(policy, values):\n",
    "    for i in range(MAX_ITER):  # assume fixed number of iterations for evaluation\n",
    "        new_values = np.array([0.]*54)\n",
    "        for s in states:\n",
    "            a = policy[s]\n",
    "            new_values[s] = return_Q(s, a, values)\n",
    "        values = copy.deepcopy(new_values)\n",
    "    return values"
   ]
  },
  {
   "cell_type": "code",
   "execution_count": 6,
   "id": "f5ea9bd7",
   "metadata": {},
   "outputs": [],
   "source": [
    "# Policy Improvement\n",
    "\n",
    "def policyImprovement(values):\n",
    "    new_policy = np.array([0]*54)\n",
    "    \n",
    "    for s in states:\n",
    "        Q = [0.] * len(actions)\n",
    "        for a in actions:\n",
    "            Q[a] = return_Q(s, a, values)\n",
    "        new_policy[s] = np.argmax(Q)\n",
    "        \n",
    "    return new_policy"
   ]
  },
  {
   "cell_type": "code",
   "execution_count": 7,
   "id": "ca54138c",
   "metadata": {},
   "outputs": [],
   "source": [
    "# Policy Iteration\n",
    "\n",
    "def policyIteration(policy, values):\n",
    "    while True:\n",
    "        current_policy = policy\n",
    "        values = policyEvaluation(policy, values)\n",
    "        policy = policyImprovement(values)\n",
    "#         print(policy)\n",
    "#         print(values)\n",
    "        if (current_policy == policy).all():  # we find the optimal policy\n",
    "            break\n",
    "    return policy"
   ]
  },
  {
   "cell_type": "code",
   "execution_count": 8,
   "id": "6dfd8bf1",
   "metadata": {},
   "outputs": [
    {
     "name": "stdout",
     "output_type": "stream",
     "text": [
      "Optimal policy: [3 3 3 3 3 3 1 0 0 1 1 0 1 1 1 1 0 0 1 1 0 1 3 3 1 0 0 0 1 0 1 3 3 3 3 0 0\n",
      " 3 3 3 0 0 0 0 0 3 3 3 3 3 3 3 3 0]\n"
     ]
    }
   ],
   "source": [
    "random.seed(10)\n",
    "init_values = np.array([0.]*54)\n",
    "init_policy = np.array([random.randint(0, 3) for i in range(54)])   # select random initial actions for first policy\n",
    "\n",
    "final_policy = policyIteration(init_policy, init_values)\n",
    "print('Optimal policy:', final_policy)"
   ]
  }
 ],
 "metadata": {
  "kernelspec": {
   "display_name": "Python 3 (ipykernel)",
   "language": "python",
   "name": "python3"
  },
  "language_info": {
   "codemirror_mode": {
    "name": "ipython",
    "version": 3
   },
   "file_extension": ".py",
   "mimetype": "text/x-python",
   "name": "python",
   "nbconvert_exporter": "python",
   "pygments_lexer": "ipython3",
   "version": "3.9.12"
  }
 },
 "nbformat": 4,
 "nbformat_minor": 5
}
